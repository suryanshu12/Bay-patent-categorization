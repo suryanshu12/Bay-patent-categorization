{
 "cells": [
  {
   "cell_type": "code",
   "execution_count": null,
   "id": "4dc136f3",
   "metadata": {},
   "outputs": [],
   "source": [
    "import sqlite3\n",
    "import pandas as pd\n",
    "\n",
    "DB_PATH = \"patent.db\"\n",
    "EXCEL_PATH = r\"C:\\Users\\lenovo\\Downloads\\zip file\\Code (google scraping)\\patent_data_englishnew.xlsx\"\n",
    "\n",
    "# Read Excel\n",
    "df = pd.read_excel(EXCEL_PATH)\n",
    "\n",
    "# Connect to SQLite\n",
    "conn = sqlite3.connect(DB_PATH)\n",
    "cursor = conn.cursor()\n",
    "\n",
    "# Create table if not exists (without inventors column)\n",
    "cursor.execute(\"\"\"\n",
    "CREATE TABLE IF NOT EXISTS patents (\n",
    "    patent_number TEXT PRIMARY KEY,\n",
    "    title TEXT,\n",
    "    abstract TEXT,\n",
    "    claims TEXT,\n",
    "    description TEXT\n",
    ")\n",
    "\"\"\")\n",
    "\n",
    "# Insert or replace data\n",
    "for _, row in df.iterrows():\n",
    "    cursor.execute(\"\"\"\n",
    "        INSERT OR REPLACE INTO patents\n",
    "        (patent_number, title, abstract, claims, description)\n",
    "        VALUES (?, ?, ?, ?, ?)\n",
    "    \"\"\", (\n",
    "        row[\"Patent_Number\"],\n",
    "        row[\"Title\"],\n",
    "        row[\"Abstract\"],\n",
    "        row[\"Claims\"],\n",
    "        row[\"Description\"]\n",
    "    ))\n",
    "\n",
    "# Commit and close\n",
    "conn.commit()\n",
    "conn.close()\n",
    "\n",
    "print(\"✅ Data inserted or replaced successfully (without inventors column)\")\n"
   ]
  },
  {
   "cell_type": "code",
   "execution_count": null,
   "id": "695797e3",
   "metadata": {},
   "outputs": [],
   "source": [
    "!streamlit run app.py"
   ]
  },
  {
   "cell_type": "code",
   "execution_count": null,
   "id": "d2a45b1b",
   "metadata": {},
   "outputs": [],
   "source": []
  }
 ],
 "metadata": {
  "kernelspec": {
   "display_name": "Python 3 (ipykernel)",
   "language": "python",
   "name": "python3"
  },
  "language_info": {
   "codemirror_mode": {
    "name": "ipython",
    "version": 3
   },
   "file_extension": ".py",
   "mimetype": "text/x-python",
   "name": "python",
   "nbconvert_exporter": "python",
   "pygments_lexer": "ipython3",
   "version": "3.10.5"
  }
 },
 "nbformat": 4,
 "nbformat_minor": 5
}
